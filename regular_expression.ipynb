{
 "cells": [
  {
   "cell_type": "markdown",
   "metadata": {},
   "source": [
    "# Regular Expression"
   ]
  },
  {
   "cell_type": "markdown",
   "metadata": {},
   "source": [
    "Tip: To build and test regular expressions, you can use regex tester tools such as [regex101](https://regex101.com/). This tool not only helps you in creating regular expressions, but it also helps you learn it."
   ]
  },
  {
   "cell_type": "code",
   "execution_count": null,
   "metadata": {},
   "outputs": [],
   "source": [
    "import re"
   ]
  },
  {
   "cell_type": "markdown",
   "metadata": {},
   "source": [
    "<details>    \n",
    "<summary>\n",
    "    <font size=\"4\" color=\"darkgreen\"><b>1. re.findall()</b></font>\n",
    "</summary>\n",
    "<p>\n",
    "<ul>Finds all the possible matches in the entire sequence and returns them as a list of strings. Each returned string represents one match.</ul>\n",
    "</p>"
   ]
  },
  {
   "cell_type": "code",
   "execution_count": null,
   "metadata": {},
   "outputs": [],
   "source": [
    "s = 'Please contact us at: support@textmining.com, info@textmining.com'\n",
    "addresses = re.findall(r'[\\w\\.-]+@[\\w\\.-]+', s)\n",
    "print(addresses)"
   ]
  },
  {
   "cell_type": "markdown",
   "metadata": {},
   "source": [
    "<details>    \n",
    "<summary>\n",
    "    <font size=\"4\" color=\"darkgreen\"><b>2. re.compile()</b></font>\n",
    "</summary>\n",
    "<p>\n",
    "<ul>We can compile a regular expression pattern into pattern objects, which can be used for pattern matching. It also helps to search a pattern again without rewriting it.</ul>\n",
    "</p>"
   ]
  },
  {
   "cell_type": "code",
   "execution_count": null,
   "metadata": {},
   "outputs": [],
   "source": [
    "s = 'Please contact us at: support@textmining.com, info@textmining.com'\n",
    "email = re.compile(r'[\\w\\.-]+@[\\w\\.-]+')\n",
    "addresses = email.findall(s)\n",
    "print(addresses)"
   ]
  },
  {
   "cell_type": "markdown",
   "metadata": {},
   "source": [
    "<details>    \n",
    "<summary>\n",
    "    <font size=\"4\" color=\"darkgreen\"><b>3. re.search()</b></font>\n",
    "</summary>\n",
    "<p>\n",
    "<ul>The re.search() method takes two arguments: a pattern and a string. The method looks for the first location where the regex pattern produces a match with the string.</ul>\n",
    "<ul>If the search is successful, re.search() returns a match object; if not, it returns None.</ul>\n",
    "</p>"
   ]
  },
  {
   "cell_type": "code",
   "execution_count": null,
   "metadata": {},
   "outputs": [],
   "source": [
    "txt = 'Text mining is fun'\n",
    "x = re.search(r'^Text.*fun$', txt)\n",
    "if x:\n",
    "    print('YES!, We have a match!')\n",
    "else:\n",
    "    print('No match')"
   ]
  },
  {
   "cell_type": "markdown",
   "metadata": {},
   "source": [
    "<details>    \n",
    "<summary>\n",
    "    <font size=\"4\" color=\"darkgreen\"><b>4. re.search() vs re.match()</b></font>\n",
    "</summary>\n",
    "<p>\n",
    "<ul>The match() function checks for a match only at the beginning of the string (by default), whereas the search() function checks for a match anywhere in the string.\n",
    "</ul>\n",
    "</p>"
   ]
  },
  {
   "cell_type": "code",
   "execution_count": null,
   "metadata": {},
   "outputs": [],
   "source": [
    "s = 'Text mining is fun'\n",
    "match_obj = re.match(r'fun', s)\n",
    "if match_obj:\n",
    "    print('Matched!')\n",
    "else:\n",
    "    print('No match')"
   ]
  },
  {
   "cell_type": "code",
   "execution_count": null,
   "metadata": {},
   "outputs": [],
   "source": [
    "s = 'Text mining is fun'\n",
    "search_obj = re.search(r'fun', s)\n",
    "if search_obj:\n",
    "    print('Matched!')\n",
    "else:\n",
    "    print('No match')"
   ]
  },
  {
   "cell_type": "markdown",
   "metadata": {},
   "source": [
    "<details>    \n",
    "<summary>\n",
    "    <font size=\"4\" color=\"darkgreen\"><b>5. Grouping in Regular Expressions</b></font>\n",
    "</summary>\n",
    "<p>\n",
    "<ul>The re.search function returns a match object on success. We can apply group(num) or groups() function on match object to get matched expression.\n",
    "</ul>\n",
    "<ul>The group feature of regular expression allows you to pick up parts of the matched text. Parts of a regular expression bounded by parenthesis () are called groups.</ul>\n",
    "</p>"
   ]
  },
  {
   "cell_type": "code",
   "execution_count": null,
   "metadata": {},
   "outputs": [],
   "source": [
    "s = \"Please contact us at: support@textmining.com\"\n",
    "match = re.search(r'([\\w\\.-]+)@([\\w\\.-]+)', s)\n",
    "print(match.group()) #The whole matched text\n",
    "print(match.group(1)) #The username (group 1)\n",
    "print(match.group(2)) #The host (group 2)\n",
    "print(match.groups()) #The username & host"
   ]
  },
  {
   "cell_type": "markdown",
   "metadata": {},
   "source": [
    "<details>    \n",
    "<summary>\n",
    "    <font size=\"4\" color=\"darkgreen\"><b>6. re.sub()</b></font>\n",
    "</summary>\n",
    "<p>\n",
    "<ul>The method returns a string where matched occurrences are replaced with the content of replace variable.\n",
    "</ul>\n",
    "</p>"
   ]
  },
  {
   "cell_type": "code",
   "execution_count": null,
   "metadata": {},
   "outputs": [],
   "source": [
    "phone = \"2004-959-559 # This is Phone Number\"\n",
    "num = re.sub(r'#.*$', '', phone) #Delete Python-style comments\n",
    "print(num)\n",
    "num = re.sub(r'\\D', '', phone) #Remove anything other than digits\n",
    "print(num)"
   ]
  },
  {
   "cell_type": "markdown",
   "metadata": {},
   "source": [
    "<details>    \n",
    "<summary>\n",
    "    <font size=\"4\" color=\"darkgreen\"><b>7. re.split()</b></font>\n",
    "</summary>\n",
    "<p>\n",
    "<ul>The re.split method splits the string where there is a match and returns a list of strings where the splits have occurred.\n",
    "</ul>\n",
    "</p>"
   ]
  },
  {
   "cell_type": "code",
   "execution_count": null,
   "metadata": {},
   "outputs": [],
   "source": [
    "a = 'ab1c26de33tt'\n",
    "result = re.split(r'\\d+', a)\n",
    "print(result)"
   ]
  },
  {
   "cell_type": "markdown",
   "metadata": {},
   "source": [
    "## Exercise 01"
   ]
  },
  {
   "cell_type": "markdown",
   "metadata": {},
   "source": [
    "Write a Python program to remove leading zeros from an IP address."
   ]
  },
  {
   "cell_type": "code",
   "execution_count": null,
   "metadata": {},
   "outputs": [],
   "source": [
    "ip = \"216.08.094.196\"\n",
    "### START CODE HERE ###\n",
    "string = \n",
    "### END CODE HERE ###\n",
    "print(string)"
   ]
  },
  {
   "cell_type": "markdown",
   "metadata": {},
   "source": [
    "#### Expected output\n",
    "```\n",
    "216.8.94.196\n",
    "```"
   ]
  },
  {
   "cell_type": "markdown",
   "metadata": {},
   "source": [
    "## Exercise 02"
   ]
  },
  {
   "cell_type": "markdown",
   "metadata": {},
   "source": [
    "Write a Python program to extract year, month and date from an url. Use re.findall()."
   ]
  },
  {
   "cell_type": "code",
   "execution_count": null,
   "metadata": {},
   "outputs": [],
   "source": [
    "url= \"https://www.washingtonpost.com/news/2016/09/01/football-insider/wp/2016/09/02/odell-beckhams-fame-rests-on-one-stupid-little/\"\n",
    "### START CODE HERE ###\n",
    "dates = \n",
    "### END CODE HERE ###\n",
    "print(dates)"
   ]
  },
  {
   "cell_type": "markdown",
   "metadata": {},
   "source": [
    "#### Expected output\n",
    "```\n",
    "[('2016', '09', '01'), ('2016', '09', '02')]\n",
    "```"
   ]
  },
  {
   "cell_type": "markdown",
   "metadata": {},
   "source": [
    "## Exercise 03\n",
    "\n",
    "'china_bond.csv' is a csv format file in which the first column represents id, the second column represents title. Please open it for more details.\n",
    "\n",
    "Write a python program to read from this file and extract firm name from the title of each line."
   ]
  },
  {
   "cell_type": "markdown",
   "metadata": {},
   "source": [
    "#### Options and Hints\n",
    "- If you would like more of a real-life practice, don't open the 'Hints' below. Try to think this through and implement this yourself.\n",
    "- If you would prefer more guidance, click on the green 'Detailed Hints' section for step by step instructions."
   ]
  },
  {
   "cell_type": "markdown",
   "metadata": {},
   "source": [
    "<details>    \n",
    "<summary>\n",
    "    <font size=\"3\" color=\"darkgreen\"><b>Detailed Hints</b></font>\n",
    "</summary>\n",
    "<p>     \n",
    "Detailed hints if you're stuck\n",
    "<ul>\n",
    "    <li>Use with statement for reading from a csv file</li>\n",
    "    <li>Use next() to skip header</li>\n",
    "    <li>Use for loop to read file line by line</li>\n",
    "    <li>You may think of the whole regex as 2 parts, each part bounded by (), regex inside the first parenthesis matches the pattern left to the firm name, regex inside the second parenthesis matches the firm name itself.</li>\n",
    "    <li>You may use non-greedy quantifiers</li>\n",
    "    <li>Use re.search(pattern, string) or re.findall(pattern, string) to extract firm name</li>\n",
    "</ul>\n",
    "</p>"
   ]
  },
  {
   "cell_type": "code",
   "execution_count": null,
   "metadata": {},
   "outputs": [],
   "source": [
    "### START CODE HERE ###\n",
    "\n",
    "### END CODE HERE ###"
   ]
  },
  {
   "cell_type": "markdown",
   "metadata": {},
   "source": [
    "#### Expected output\n",
    "```\n",
    "瑞安市国有资产投资集团有限公司\n",
    "江苏省美尚生态景观股份有限公司\n",
    "湖南天易融通创业投资有限公司\n",
    "安宁发展投资集团有限公司\n",
    "华晨汽车集团控股有限公司\n",
    "海宁市尖山新区开发有限公司\n",
    "海门南黄海建设发展有限公司\n",
    "瑞安市国有资产投资集团有限公司\n",
    "桃源县经济开发区开发投资有限公司\n",
    "当涂县城乡建设投资有限责任公司\n",
    "江苏省美尚生态景观股份有限公司\n",
    "安宁发展投资集团有限公司\n",
    "海宁市尖山新区开发有限公司\n",
    "海门南黄海建设发展有限公司\n",
    "淮南市城市建设投资有限责任公司\n",
    "桃源县经济开发区开发投资有限公司\n",
    "当涂县城乡建设投资有限责任公司\n",
    "孟州市投资开发有限公司\n",
    "彭泽县城市建设投资有限公司\n",
    "孟州市投资开发有限公司\n",
    "淮南市城市建设投资有限责任公司\n",
    "青岛华通国有资本运营（集团）有限责任公司\n",
    "青岛华通国有资本运营（集团）有限责任公司\n",
    "景德镇陶瓷文化旅游发展有限责任公司\n",
    "青岛华通国有资本运营（集团）有限责任公司\n",
    "彭泽县城市建设投资有限公司\n",
    "孟州市投资开发有限公司\n",
    "景德镇陶瓷文化旅游发展有限责任公司\n",
    "永修县城市建设投资开发有限公司\n",
    "厦门轨道交通集团有限公司\n",
    "杭州良渚文化城集团有限公司\n",
    "```"
   ]
  },
  {
   "cell_type": "code",
   "execution_count": null,
   "metadata": {},
   "outputs": [],
   "source": []
  }
 ],
 "metadata": {
  "kernelspec": {
   "display_name": "Python 3",
   "language": "python",
   "name": "python3"
  },
  "language_info": {
   "codemirror_mode": {
    "name": "ipython",
    "version": 3
   },
   "file_extension": ".py",
   "mimetype": "text/x-python",
   "name": "python",
   "nbconvert_exporter": "python",
   "pygments_lexer": "ipython3",
   "version": "3.7.4"
  }
 },
 "nbformat": 4,
 "nbformat_minor": 2
}
