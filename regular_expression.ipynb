{
 "cells": [
  {
   "cell_type": "markdown",
   "metadata": {},
   "source": [
    "# Regular Expression"
   ]
  },
  {
   "cell_type": "markdown",
   "metadata": {},
   "source": [
    "<details>    \n",
    "<summary>\n",
    "    <font size=\"4\" color=\"darkgreen\"><b>1. re.findall()</b></font>\n",
    "</summary>\n",
    "<p>\n",
    "<ul>Finds all the possible matches in the entire sequence and returns them as a list of strings. Each returned string represents one match.</ul>\n",
    "</p>"
   ]
  },
  {
   "cell_type": "code",
   "execution_count": null,
   "metadata": {},
   "outputs": [],
   "source": [
    "import re\n",
    "s = 'Please contact us at: support@textmining.com, info@textmining.com'\n",
    "addresses = re.findall(r'[\\w\\.-]+@[\\w\\.-]+', s)\n",
    "print(addresses)"
   ]
  },
  {
   "cell_type": "markdown",
   "metadata": {},
   "source": [
    "<details>    \n",
    "<summary>\n",
    "    <font size=\"4\" color=\"darkgreen\"><b>2. re.compile()</b></font>\n",
    "</summary>\n",
    "<p>\n",
    "<ul>We can compile a regular expression pattern into pattern objects, which can be used for pattern matching. It also helps to search a pattern again without rewriting it.</ul>\n",
    "</p>"
   ]
  },
  {
   "cell_type": "code",
   "execution_count": null,
   "metadata": {},
   "outputs": [],
   "source": [
    "s = 'Please contact us at: support@textmining.com, info@textmining.com'\n",
    "email = re.compile(r'[\\w\\.-]+@[\\w\\.-]+')\n",
    "addresses = email.findall(s)\n",
    "print(addresses)"
   ]
  },
  {
   "cell_type": "markdown",
   "metadata": {},
   "source": [
    "<details>    \n",
    "<summary>\n",
    "    <font size=\"4\" color=\"darkgreen\"><b>3. re.search()</b></font>\n",
    "</summary>\n",
    "<p>\n",
    "<ul>The re.search() method takes two arguments: a pattern and a string. The method looks for the first location where the regex pattern produces a match with the string.</ul>\n",
    "<ul>If the search is successful, re.search() returns a match object; if not, it returns None.</ul>\n",
    "</p>"
   ]
  },
  {
   "cell_type": "code",
   "execution_count": null,
   "metadata": {},
   "outputs": [],
   "source": [
    "txt = 'Text mining is fun'\n",
    "x = re.search(r'^Text.*fun$', txt)\n",
    "if x:\n",
    "    print('YES!, We have a match!')\n",
    "else:\n",
    "    print('No match')"
   ]
  },
  {
   "cell_type": "markdown",
   "metadata": {},
   "source": [
    "<details>    \n",
    "<summary>\n",
    "    <font size=\"4\" color=\"darkgreen\"><b>4. re.search() vs re.match()</b></font>\n",
    "</summary>\n",
    "<p>\n",
    "<ul>The match() function checks for a match only at the beginning of the string (by default), whereas the search() function checks for a match anywhere in the string.\n",
    "</ul>\n",
    "</p>"
   ]
  },
  {
   "cell_type": "code",
   "execution_count": null,
   "metadata": {},
   "outputs": [],
   "source": [
    "s = 'Text mining is fun'\n",
    "match_obj = re.match(r'fun', s)\n",
    "if match_obj:\n",
    "    print('Matched!')\n",
    "else:\n",
    "    print('No match')"
   ]
  },
  {
   "cell_type": "code",
   "execution_count": null,
   "metadata": {},
   "outputs": [],
   "source": [
    "s = 'Text mining is fun'\n",
    "search_obj = re.search(r'fun', s)\n",
    "if search_obj:\n",
    "    print('Matched!')\n",
    "else:\n",
    "    print('No match')"
   ]
  },
  {
   "cell_type": "markdown",
   "metadata": {},
   "source": [
    "<details>    \n",
    "<summary>\n",
    "    <font size=\"4\" color=\"darkgreen\"><b>5. Grouping in Regular Expressions</b></font>\n",
    "</summary>\n",
    "<p>\n",
    "<ul>The re.search function returns a match object on success. We can apply group(num) or groups() function on match object to get matched expression.\n",
    "</ul>\n",
    "<ul>The group feature of regular expression allows you to pick up parts of the matched text. Parts of a regular expression bounded by parenthesis () are called groups.</ul>\n",
    "</p>"
   ]
  },
  {
   "cell_type": "code",
   "execution_count": null,
   "metadata": {},
   "outputs": [],
   "source": [
    "s = \"Please contact us at: support@textmining.com\"\n",
    "match = re.search(r'([\\w\\.-]+)@([\\w\\.-]+)', s)\n",
    "print(match.group()) #The whole matched text\n",
    "print(match.group(1)) #The username (group 1)\n",
    "print(match.group(2)) #The host (group 2)"
   ]
  },
  {
   "cell_type": "markdown",
   "metadata": {},
   "source": [
    "<details>    \n",
    "<summary>\n",
    "    <font size=\"4\" color=\"darkgreen\"><b>6. re.sub()</b></font>\n",
    "</summary>\n",
    "<p>\n",
    "<ul>The method returns a string where matched occurrences are replaced with the content of replace variable.\n",
    "</ul>\n",
    "</p>"
   ]
  },
  {
   "cell_type": "code",
   "execution_count": null,
   "metadata": {},
   "outputs": [],
   "source": [
    "phone = \"2004-959-559 # This is Phone Number\"\n",
    "num = re.sub(r'#.*$', '', phone) #Delete Python-style comments\n",
    "print(num)\n",
    "num = re.sub(r'\\D', '', phone) #Remove anything other than digits\n",
    "print(num)"
   ]
  },
  {
   "cell_type": "markdown",
   "metadata": {},
   "source": [
    "## Exercise\n",
    "\n",
    "'china_bond.csv' is a csv format file in which the first column represents id, the second column represents title. Please open it for more details.\n",
    "\n",
    "Write a python program to read from this file and extract firm name from each line of title, store the extracted values in a csv format file named as 'output.csv', and this output file should be same as the expected.csv."
   ]
  },
  {
   "cell_type": "markdown",
   "metadata": {},
   "source": [
    "#### Options and Hints\n",
    "- If you would like more of a real-life practice, don't open the 'Hints' below. Try to think this through and implement this yourself.\n",
    "- If you want a little help, click on the green \"General Hints\" section for some hints to get started.\n",
    "- If you would prefer more guidance, click on the green 'Detailed Hints' section for step by step instructions."
   ]
  },
  {
   "cell_type": "markdown",
   "metadata": {},
   "source": [
    "<details>    \n",
    "<summary>\n",
    "    <font size=\"3\" color=\"darkgreen\"><b>General Hints</b></font>\n",
    "</summary>\n",
    "<p>\n",
    "    \n",
    "General Hints to get started\n",
    "<ul>\n",
    "    <li>Use with statement for reading from and writing to a csv file</li>\n",
    "    <li>Use re.search(pattern, string)</li>\n",
    "</ul>\n",
    "</p>"
   ]
  },
  {
   "cell_type": "markdown",
   "metadata": {},
   "source": [
    "<details>    \n",
    "<summary>\n",
    "    <font size=\"3\" color=\"darkgreen\"><b>Detailed Hints</b></font>\n",
    "</summary>\n",
    "<p>     \n",
    "Detailed hints if you're stuck\n",
    "<ul>\n",
    "    <li>Use with statement for reading from and writing to a csv file</li>\n",
    "    <li>Use next() to skip header</li>\n",
    "    <li>Use for loop to read file line by line</li>\n",
    "    <li>Look for patterns left to the firm name, use '|' and () in re</li>\n",
    "    <li>Use Non-Greedy quantifiers</li>\n",
    "    <li>Use re.search(pattern, string)</li>\n",
    "    <li>Apply group(num) or groups() function on match object</li>\n",
    "    <li>Use writerow() to write the extracted firm name into csv file</li>\n",
    "</ul>\n",
    "</p>"
   ]
  },
  {
   "cell_type": "code",
   "execution_count": null,
   "metadata": {},
   "outputs": [],
   "source": [
    "### START CODE HERE ###\n",
    "\n",
    "### END CODE HERE ###"
   ]
  }
 ],
 "metadata": {
  "kernelspec": {
   "display_name": "Python 3",
   "language": "python",
   "name": "python3"
  },
  "language_info": {
   "codemirror_mode": {
    "name": "ipython",
    "version": 3
   },
   "file_extension": ".py",
   "mimetype": "text/x-python",
   "name": "python",
   "nbconvert_exporter": "python",
   "pygments_lexer": "ipython3",
   "version": "3.7.4"
  }
 },
 "nbformat": 4,
 "nbformat_minor": 2
}
